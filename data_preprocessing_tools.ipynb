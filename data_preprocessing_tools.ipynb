{
  "nbformat": 4,
  "nbformat_minor": 0,
  "metadata": {
    "colab": {
      "provenance": [],
      "gpuType": "V28",
      "include_colab_link": true
    },
    "kernelspec": {
      "name": "python3",
      "display_name": "Python 3"
    },
    "accelerator": "TPU"
  },
  "cells": [
    {
      "cell_type": "markdown",
      "metadata": {
        "id": "view-in-github",
        "colab_type": "text"
      },
      "source": [
        "<a href=\"https://colab.research.google.com/github/priyashu-code/Machine-learning/blob/main/data_preprocessing_tools.ipynb\" target=\"_parent\"><img src=\"https://colab.research.google.com/assets/colab-badge.svg\" alt=\"Open In Colab\"/></a>"
      ]
    },
    {
      "cell_type": "markdown",
      "metadata": {
        "id": "37puETfgRzzg"
      },
      "source": [
        "# Data Preprocessing Tools"
      ]
    },
    {
      "cell_type": "markdown",
      "metadata": {
        "id": "EoRP98MpR-qj"
      },
      "source": [
        "## Importing the libraries"
      ]
    },
    {
      "cell_type": "code",
      "metadata": {
        "id": "N-qiINBQSK2g"
      },
      "source": [
        "import numpy as np #it helps us to work with arrays as input comes in arrays\n",
        "import matplotlib.pyplot as plt  #it helps us to plot graphs and in that pypolt we seleccted\n",
        "import pandas as pd"
      ],
      "execution_count": 18,
      "outputs": []
    },
    {
      "cell_type": "markdown",
      "metadata": {
        "id": "RopL7tUZSQkT"
      },
      "source": [
        "## Importing the dataset"
      ]
    },
    {
      "cell_type": "code",
      "metadata": {
        "id": "WwEPNDWySTKm"
      },
      "source": [
        "# variable declared with name dataset and in that we will call a pandas library\n",
        "dataset = pd.read_csv('Data.csv')\n",
        "\n",
        "# now decalre dependent and independent variable dependent will be mostly last column of dataset\n",
        "# x independent y dependent\n",
        "x= dataset.iloc[:,:-1].values #iloc stands for locate indexes of column from dataset that you want to extract\n",
        "# : means range by -1 we are saying except the last one take all others as mostly except last are independent\n",
        "\n",
        "y= dataset.iloc[:,-1].values\n",
        "# we removed the range in it and kept -1 so only last column will be selected\n",
        "\n",
        "\n",
        "\n"
      ],
      "execution_count": 19,
      "outputs": []
    },
    {
      "cell_type": "code",
      "source": [
        "print(x)"
      ],
      "metadata": {
        "colab": {
          "base_uri": "https://localhost:8080/"
        },
        "collapsed": true,
        "id": "O1y7GqxcQ1Nw",
        "outputId": "7e897da0-4fcc-4d2f-869f-2683cac27b54"
      },
      "execution_count": null,
      "outputs": [
        {
          "output_type": "stream",
          "name": "stdout",
          "text": [
            "[['France' 44.0 72000.0]\n",
            " ['Spain' 27.0 48000.0]\n",
            " ['Germany' 30.0 54000.0]\n",
            " ['Spain' 38.0 61000.0]\n",
            " ['Germany' 40.0 nan]\n",
            " ['France' 35.0 58000.0]\n",
            " ['Spain' nan 52000.0]\n",
            " ['France' 48.0 79000.0]\n",
            " ['Germany' 50.0 83000.0]\n",
            " ['France' 37.0 67000.0]]\n"
          ]
        }
      ]
    },
    {
      "cell_type": "code",
      "source": [
        "print(y)"
      ],
      "metadata": {
        "colab": {
          "base_uri": "https://localhost:8080/"
        },
        "collapsed": true,
        "id": "_bAi930-Q3pH",
        "outputId": "ceade0a5-53f5-443c-9d2a-7086ab79fa64"
      },
      "execution_count": null,
      "outputs": [
        {
          "output_type": "stream",
          "name": "stdout",
          "text": [
            "['No' 'Yes' 'No' 'No' 'Yes' 'Yes' 'No' 'Yes' 'No' 'Yes']\n"
          ]
        }
      ]
    },
    {
      "cell_type": "markdown",
      "metadata": {
        "id": "nhfKXNxlSabC"
      },
      "source": [
        "## Taking care of missing data"
      ]
    },
    {
      "cell_type": "code",
      "metadata": {
        "id": "c93k7ipkSexq"
      },
      "source": [
        "# As you can see we have some missing data in our dataset so we have take care of it\n",
        "# generally we don't have such missing datas\n",
        "\n",
        "# 1st way is to remove it as you have large data and some is missing so we can delete as it does not hamper learning\n",
        "# but if a lot is missing then we need to carefully handle  the data\n",
        "\n",
        "# so replace the missing data with the average of that column\n",
        "\n",
        "from sklearn.impute import SimpleImputer\n",
        "imputer = SimpleImputer(missing_values= np.nan, strategy='mean')\n",
        " #imputer is object that we declared\n",
        "imputer.fit(x[:,1:3])\n",
        "#as range 1:3 it will see only column 1 and 2 as 0 has character so it can givr error\n",
        "# and make a habit to include all numerical values as you do't know where missing data is in big dataset\n",
        "x[:,1:3]=imputer.transform(x[:,1:3])\n",
        "# transform will make changes and we are updating it\n"
      ],
      "execution_count": 20,
      "outputs": []
    },
    {
      "cell_type": "code",
      "source": [
        "print(x)"
      ],
      "metadata": {
        "id": "yL3GncV9UunQ"
      },
      "execution_count": null,
      "outputs": []
    },
    {
      "cell_type": "markdown",
      "metadata": {
        "id": "CriG6VzVSjcK"
      },
      "source": [
        "## Encoding categorical data"
      ]
    },
    {
      "cell_type": "markdown",
      "metadata": {
        "id": "AhSpdQWeSsFh"
      },
      "source": [
        "### Encoding the Independent Variable"
      ]
    },
    {
      "cell_type": "code",
      "metadata": {
        "id": "5hwuVddlSwVi"
      },
      "source": [
        "from sklearn.compose import ColumnTransformer\n",
        "from sklearn.preprocessing import OneHotEncoder\n",
        "\n",
        "# we have to create a vriable to store column transform class\n",
        "ct= ColumnTransformer(transformers=[('encoder', OneHotEncoder(),[0])],remainder='passthrough')\n",
        "x=np.array(ct.fit_transform(x))\n",
        "# only [0] because we want to transform only country column as it's in alphabet in independent\n",
        "# fit_transform method in np array to force it to be in array format\n",
        "# so by these we get unique id's for each countries and converted them to numerical values\n"
      ],
      "execution_count": 21,
      "outputs": []
    },
    {
      "cell_type": "code",
      "metadata": {
        "id": "f7QspewyeBfx"
      },
      "source": [
        "print(x)"
      ],
      "execution_count": null,
      "outputs": []
    },
    {
      "cell_type": "markdown",
      "metadata": {
        "id": "DXh8oVSITIc6"
      },
      "source": [
        "### Encoding the Dependent Variable"
      ]
    },
    {
      "cell_type": "code",
      "metadata": {
        "id": "XgHCShVyTOYY"
      },
      "source": [
        "from sklearn.preprocessing import LabelEncoder\n",
        "le = LabelEncoder()\n",
        "y=le.fit_transform(y)\n",
        "# converted yes and no to 0/1 form"
      ],
      "execution_count": 22,
      "outputs": []
    },
    {
      "cell_type": "code",
      "metadata": {
        "id": "FyhY8-gPpFCa"
      },
      "source": [
        "print(y)"
      ],
      "execution_count": null,
      "outputs": []
    },
    {
      "cell_type": "markdown",
      "metadata": {
        "id": "qb_vcgm3qZKW"
      },
      "source": [
        "## Splitting the dataset into the Training set and Test set"
      ]
    },
    {
      "cell_type": "code",
      "metadata": {
        "id": "pXgA6CzlqbCl"
      },
      "source": [
        "# Apply feature scaling after dividing dataset into test and train\n",
        "# feature scaling work is to make sure all your dataset take value in same scale so that one feature does not dominate the other one\n",
        "# So reason of it to implement after is  test set is supposed to be brand new set\n",
        "# means you are not supposed to be train with it so if i do scaling before\n",
        "# it will take mean and standard deviation including the values left for testing\n",
        "# so applying before just leak the test set(so it's just to make sure there is no information leakage to test set)\n"
      ],
      "execution_count": 17,
      "outputs": []
    },
    {
      "cell_type": "code",
      "metadata": {
        "id": "GuwQhFdKrYTM"
      },
      "source": [
        "from sklearn.model_selection import train_test_split\n",
        "# As giving 20% for test and rest 80 for training and it's selected randomly\n",
        "# randomm state=1 without setting it every time we will get different split\n",
        "x_train, x_test, y_train, y_test=train_test_split(x,y,test_size=0.2,random_state=1)"
      ],
      "execution_count": 23,
      "outputs": []
    },
    {
      "cell_type": "code",
      "metadata": {
        "id": "TUrX_Tvcrbi4",
        "collapsed": true
      },
      "source": [
        "print(x_train)"
      ],
      "execution_count": null,
      "outputs": []
    },
    {
      "cell_type": "code",
      "source": [
        "print(x_test)"
      ],
      "metadata": {
        "id": "f_DXxoU0t6CB"
      },
      "execution_count": null,
      "outputs": []
    },
    {
      "cell_type": "code",
      "metadata": {
        "id": "pSMHiIsWreQY"
      },
      "source": [
        "print(y_train)"
      ],
      "execution_count": null,
      "outputs": []
    },
    {
      "cell_type": "code",
      "metadata": {
        "id": "I_tW7H56rgtW"
      },
      "source": [
        "print(y_test)"
      ],
      "execution_count": null,
      "outputs": []
    },
    {
      "cell_type": "markdown",
      "metadata": {
        "id": "TpGqbS4TqkIR"
      },
      "source": [
        "## Feature Scaling"
      ]
    },
    {
      "cell_type": "code",
      "metadata": {
        "id": "AxjSUXFQqo-3"
      },
      "source": [
        "# It's used in some ML models not all only when there is a chance one feature can dominate other\n",
        "\n",
        "# NOrmalization is recommended when we have normal distribution in most of features\n",
        "# standadisation works all the time (so use it)\n",
        "\n",
        "from sklearn.preprocessing import StandardScaler\n",
        "sc = StandardScaler()\n",
        "\n",
        "# don't apply standardisation on values which you converted as u will loose uniqueness\n",
        "# it could make germany and italy equal as it has to bring all values under a range\n",
        "# So apply feature scaaling only to integer values not to dummy variable\n",
        "\n",
        "x_train[:,3:]=sc.fit_transform(x_train[:,3:])\n",
        "# fit will only give you mean and standard deviation\n",
        "# but transform apply the standarisation formula\n",
        "\n",
        "x_test[:,3:]=sc.fit_transform(x_test[:,3:])\n"
      ],
      "execution_count": 29,
      "outputs": []
    },
    {
      "cell_type": "code",
      "metadata": {
        "id": "DWPET8ZdlMnu"
      },
      "source": [
        "print(x_train)"
      ],
      "execution_count": null,
      "outputs": []
    },
    {
      "cell_type": "code",
      "metadata": {
        "id": "sTXykB_QlRjE"
      },
      "source": [
        "print(x_test)"
      ],
      "execution_count": null,
      "outputs": []
    }
  ]
}