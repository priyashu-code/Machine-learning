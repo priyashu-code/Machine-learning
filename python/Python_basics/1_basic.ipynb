{
 "cells": [
  {
   "cell_type": "markdown",
   "id": "3190ec02",
   "metadata": {},
   "source": [
    "syntax kaise likhna hia\n",
    "\n",
    "semantics ki code karega kya \n",
    "\n",
    "case senstiviy python is case sensitive"
   ]
  },
  {
   "cell_type": "code",
   "execution_count": 3,
   "id": "35b1613c",
   "metadata": {},
   "outputs": [
    {
     "name": "stdout",
     "output_type": "stream",
     "text": [
      "p\n",
      "bisht p\n"
     ]
    }
   ],
   "source": [
    "name =\"p\"\n",
    "Name=\"bisht\"\n",
    "\n",
    "print(name)\n",
    "print(Name + \" \"+name)"
   ]
  },
  {
   "cell_type": "code",
   "execution_count": null,
   "id": "7c39120f",
   "metadata": {},
   "outputs": [
    {
     "name": "stdout",
     "output_type": "stream",
     "text": [
      "32\n",
      "hello\n",
      "your32\n"
     ]
    }
   ],
   "source": [
    "age =32\n",
    "\n",
    "if age>=30:\n",
    "    print(age)\n",
    "\n",
    "print(\"your\"+ str(age))"
   ]
  },
  {
   "cell_type": "code",
   "execution_count": null,
   "id": "a39b509a",
   "metadata": {},
   "outputs": [
    {
     "name": "stdout",
     "output_type": "stream",
     "text": [
      "28\n"
     ]
    }
   ],
   "source": [
    "# you can use \\ to continue code in net line\n",
    "\n",
    "total =1+2+3+4+5+\\\n",
    "6+7\n",
    "\n",
    "print(total)"
   ]
  }
 ],
 "metadata": {
  "kernelspec": {
   "display_name": "venv",
   "language": "python",
   "name": "python3"
  },
  "language_info": {
   "codemirror_mode": {
    "name": "ipython",
    "version": 3
   },
   "file_extension": ".py",
   "mimetype": "text/x-python",
   "name": "python",
   "nbconvert_exporter": "python",
   "pygments_lexer": "ipython3",
   "version": "3.10.18"
  }
 },
 "nbformat": 4,
 "nbformat_minor": 5
}
